{
 "cells": [
  {
   "cell_type": "code",
   "execution_count": 27,
   "metadata": {},
   "outputs": [],
   "source": [
    "def distance(x,X):\n",
    "    return np.sqrt(np.sum((x-X)**2))\n",
    "#def KNN(X,Y,x, K=5):\n",
    "    #m = X.shape[0]\n",
    "    #x = x.reshape((10000,))\n",
    "    #val = []\n",
    "    #for i in range(m):\n",
    "    #    xi = X[i]\n",
    "    #    xi = xi.reshape((10000,))\n",
    "    #    dist = distance(x,xi)\n",
    "    #    val.append((dist,Y[i]))\n",
    "    #val = sorted(val, key = lambda x:x[0]) [:K]\n",
    "    #val = np.asarray(val)\n",
    "    #new_vals = np.unique(val[:,1],return_counts=True)\n",
    "    #index = new_vals[1].argmax()\n",
    "    #output = new_vals[0][index]\n",
    "    #return output\n",
    "\n",
    "def KNN(X, Y, x, K=5):\n",
    "    m = X.shape[0]\n",
    "    x = x.reshape((40000,))\n",
    "    distances = [distance(x, X[i].reshape((40000,))) for i in range(m)]\n",
    "    val = [(dist, Y[i]) for i, dist in enumerate(distances)]\n",
    "    val = sorted(val, key=lambda x: x[0])[:K]\n",
    "    val = np.array(val, dtype=object)  # Convert to NumPy array with dtype=object\n",
    "    new_vals = np.unique(val[:, 1], return_counts=True)\n",
    "    index = new_vals[1].argmax()\n",
    "    output = new_vals[0][index]\n",
    "    return output\n",
    "\n"
   ]
  },
  {
   "cell_type": "code",
   "execution_count": 28,
   "metadata": {
    "notebookRunGroups": {
     "groupValue": "2"
    }
   },
   "outputs": [
    {
     "name": "stdout",
     "output_type": "stream",
     "text": [
      "(407, 40000)\n"
     ]
    },
    {
     "name": "stderr",
     "output_type": "stream",
     "text": [
      "C:\\Users\\gmang\\AppData\\Local\\Temp\\ipykernel_1880\\2710213038.py:45: DeprecationWarning: Conversion of an array with ndim > 0 to a scalar is deprecated, and will error in future. Ensure you extract a single element from your array before performing this operation. (Deprecated NumPy 1.25.)\n",
      "  pred_name = names[int(pred)]\n"
     ]
    }
   ],
   "source": [
    "import cv2\n",
    "import numpy as np \n",
    "import os \n",
    "\n",
    "cap = cv2.VideoCapture(0)\n",
    "path = \"C:\\\\Users\\\\gmang\\\\OneDrive\\\\Education\\\\varsity college\\\\2024\\\\Semester 1\\\\PDAN 8411\\\\ice 1\\\\haarcascade_frontalface_default.xml\"\n",
    "dirpath = \"C:\\\\Users\\\\gmang\\\\OneDrive\\\\Education\\\\varsity college\\\\2024\\\\Semester 1\\\\PDAN 8411\"\n",
    "face_cascade = cv2.CascadeClassifier(path)\n",
    "\n",
    "face_data = []\n",
    "labels = []\n",
    "names = []\n",
    "class_id = 0\n",
    "face_section = np.zeros((200, 200), dtype='uint8')\n",
    "\n",
    "for file in os.listdir(dirpath):\n",
    "    if file.endswith(\".npy\"):\n",
    "        data_item = np.load(os.path.join(dirpath, file))\n",
    "        names.append(file[:-4])\n",
    "        face_data.append(data_item)\n",
    "        target = class_id * np.ones((data_item.shape[0],))\n",
    "        class_id += 1\n",
    "        labels.append(target)\n",
    "print(np.concatenate(face_data,axis=0).shape)\n",
    "\n",
    "face_dataset = np.concatenate(face_data, axis=0)\n",
    "face_labels = np.concatenate(labels, axis=0).reshape(-1, 1)\n",
    "\n",
    "\n",
    "while True:\n",
    "    ret, frame = cap.read()\n",
    "    gray_frame = cv2.cvtColor(frame, cv2.COLOR_BGR2GRAY)\n",
    "    \n",
    "    if ret == False:\n",
    "        continue\n",
    "    \n",
    "    faces = face_cascade.detectMultiScale(gray_frame, 1.3, 5)\n",
    "    faces = sorted(faces, key=lambda f: f[2] * f[3])\n",
    "    \n",
    "    for face in faces[-1:]:\n",
    "        x, y, w, h = face\n",
    "        face_section = gray_frame[y:y+h, x:x+w]\n",
    "        face_section = cv2.resize(face_section, (200, 200))\n",
    "        pred = KNN(face_dataset, face_labels, face_section)\n",
    "        pred_name = names[int(pred)]\n",
    "        cv2.putText(frame, pred_name, (x, y-30), cv2.FONT_HERSHEY_SIMPLEX, 1, (255, 0, 0), 2, cv2.LINE_AA)\n",
    "        cv2.rectangle(frame, (x, y), (x+w, y+h), (0, 255, 0), 10)\n",
    "    \n",
    "    cv2.imshow(\"camera\", frame)\n",
    "    key_pressed = cv2.waitKey(1) & 0xFF\n",
    "    if key_pressed == ord('q'):\n",
    "        break\n",
    "\n",
    "cap.release()\n",
    "cv2.destroyAllWindows()"
   ]
  }
 ],
 "metadata": {
  "kernelspec": {
   "display_name": "Python 3",
   "language": "python",
   "name": "python3"
  },
  "language_info": {
   "codemirror_mode": {
    "name": "ipython",
    "version": 3
   },
   "file_extension": ".py",
   "mimetype": "text/x-python",
   "name": "python",
   "nbconvert_exporter": "python",
   "pygments_lexer": "ipython3",
   "version": "3.12.3"
  }
 },
 "nbformat": 4,
 "nbformat_minor": 2
}
