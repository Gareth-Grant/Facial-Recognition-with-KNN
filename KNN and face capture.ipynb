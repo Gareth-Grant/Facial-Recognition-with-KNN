{
 "cells": [
  {
   "cell_type": "code",
   "execution_count": 1,
   "metadata": {},
   "outputs": [],
   "source": [
    "import cv2\n",
    "import numpy as np "
   ]
  },
  {
   "cell_type": "code",
   "execution_count": 1,
   "metadata": {},
   "outputs": [],
   "source": [
    "cap = cv2.Video.Capture(0)\n",
    "path = \"C:\\Users\\gmang\\OneDrive\\Education\\varsity college\\2024\\Semester 1\\PDAN 8411\\ice 1\\haarcascade_frontalface_default.xml\"\n",
    "face_cascade = cv2.CascadeClassifier(path)\n",
    "face_data = []\n",
    "face_seltion = np.zeros((100,100), dtype=\"uint8\")\n",
    "dirpath =  \"C:\\\\Users\\\\gmang\\\\OneDrive\\\\Education\\\\varsity college\\\\2024\\\\Semester 1\\\\PDAN 8411\""
   ]
  },
  {
   "cell_type": "code",
   "execution_count": 2,
   "metadata": {},
   "outputs": [],
   "source": [
    "name = input (\"Enter your name:\")\n",
    "while True: \n",
    "    ret, frame = cap.read()\n",
    "    if ret == False:\n",
    "        continue\n",
    "    gray_frame = cv2.cvtColor(frame, cv2.COLOR_BGR2GRAY)\n",
    "    faces = face_cascade.detectMultiScale(gray_frame,1.3,5)\n",
    "    faces = sorted(faces, key=lambda f:f[2]*f[3])\n",
    "    for face in faces[-1:]:\n",
    "        x,y,w,h = face\n",
    "        face_section = gray_frame[y:y+h,x:x+w]\n",
    "        face_section = cv2.resize(face_section, (100,100))\n",
    "        cv2.putText(frame, name, (x,y-30),cv2.FONT_HERSHEY_SIMPLEX, 1,1(255,0,),2,cv2.LINE_AA)\n",
    "        cv2.rectangle(frame, (x,y),(x+w,y+h),(0,255,0),10)\n",
    "    cv2.imshow(\"camera\", frame)\n",
    "    key_pressed = cv2.waitKey(1) & 0xFF\n",
    "    if key_pressed == ord('q')\n",
    "    break \n",
    "cap.release()\n",
    "cv2.destroyALLWindows()"
   ]
  }
 ],
 "metadata": {
  "kernelspec": {
   "display_name": "Python 3",
   "language": "python",
   "name": "python3"
  },
  "language_info": {
   "codemirror_mode": {
    "name": "ipython",
    "version": 3
   },
   "file_extension": ".py",
   "mimetype": "text/x-python",
   "name": "python",
   "nbconvert_exporter": "python",
   "pygments_lexer": "ipython3",
   "version": "3.12.3"
  }
 },
 "nbformat": 4,
 "nbformat_minor": 2
}
